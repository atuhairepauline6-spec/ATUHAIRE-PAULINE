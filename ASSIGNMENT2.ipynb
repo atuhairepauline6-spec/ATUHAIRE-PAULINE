{
 "cells": [
  {
   "cell_type": "code",
   "execution_count": 13,
   "id": "3265a4fc-d42b-4d27-b850-57743c59455e",
   "metadata": {},
   "outputs": [
    {
     "name": "stdout",
     "output_type": "stream",
     "text": [
      "[('Anna', 164000), ('Jake', 246000), ('Paula', 60000), ('Anthony', 328000), ('Fairouz', 1000000), ('Lydia', 410000), ('Mark', 700000), ('Patricia', 82000), ('Duncan', 738000), ('Grace', 70000)]\n",
      "[('Fairouz', 1000, 'Commercial'), ('Mark', 700, 'Commercial'), ('Duncan', 900, 'Domestic')]\n",
      "Average bill: UGX 379,800.00\n",
      "['Anna: UGX 164,000', 'Jake: UGX 246,000', 'Paula: UGX 60,000', 'Anthony: UGX 328,000', 'Fairouz: UGX 1,000,000', 'Lydia: UGX 410,000', 'Mark: UGX 700,000', 'Patricia: UGX 82,000', 'Duncan: UGX 738,000', 'Grace: UGX 70,000']\n"
     ]
    }
   ],
   "source": [
    "# QUESTION 1\n",
    "customers = [\n",
    "    ('Anna', 200, 'Domestic'),\n",
    "    ('Jake', 300, 'Domestic'),\n",
    "    ('Paula', 60, 'Commercial'),\n",
    "    ('Anthony', 400, 'Domestic'),\n",
    "    ('Fairouz', 1000, 'Commercial'),\n",
    "    ('Lydia', 500, 'Domestic'),\n",
    "    ('Mark', 700, 'Commercial'),\n",
    "    ('Patricia', 100, 'Domestic'),\n",
    "    ('Duncan', 900, 'Domestic'),\n",
    "    ('Grace', 70, 'Commercial')\n",
    "]\n",
    "\n",
    "domestic_rate = 820\n",
    "commercial_rate = 1000\n",
    "\n",
    "customer_names = list(map(lambda x: x[0], customers))\n",
    "total_bills = list(map(lambda x: x[1] * (domestic_rate if x[2] == 'Domestic' else commercial_rate), customers))\n",
    "\n",
    "paired_customers_bills = list(zip(customer_names, total_bills))\n",
    "print(paired_customers_bills)\n",
    "\n",
    "high_consumption_customers = list(filter(lambda x: x[1] > 500, customers))\n",
    "print(high_consumption_customers)\n",
    "\n",
    "def average_bill(*bills):\n",
    "    return sum(bills) / len(bills)\n",
    "\n",
    "total_bills = [customer[1] * (domestic_rate if customer[2] == 'Domestic' else commercial_rate) for customer in customers]\n",
    "average = average_bill(*total_bills)\n",
    "print(f'Average bill: UGX {average:,.2f}')\n",
    "\n",
    "results = [f\"{customer[0]}: UGX {customer[1] * (domestic_rate if customer[2] == 'Domestic' else commercial_rate):,}\" for customer in customers]\n",
    "print(results)\n",
    "\n"
   ]
  },
  {
   "cell_type": "code",
   "execution_count": 11,
   "id": "8253d446-7cde-4574-a0e1-e3a6a5948bb2",
   "metadata": {},
   "outputs": [
    {
     "name": "stdout",
     "output_type": "stream",
     "text": [
      "Mango: [2500, 2700, 2600, 2800]\n",
      "Orange: [3000, 3200, 3100]\n",
      "Apple: [4500, 4600, 4550, 4700, 4800]\n",
      "{'Mango': 2650.0, 'Orange': 3087.5, 'Apple': 4587.5}\n",
      "\n",
      "Fruits Above Average Price: Orange, Apple\n"
     ]
    }
   ],
   "source": [
    "# QUESTION 2\n",
    "\n",
    "from itertools import zip_longest\n",
    "\n",
    "mango_prices = [2500, 2700, 2600, 2800]\n",
    "orange_prices = [3000, 3200, 3100, 3050]\n",
    "apple_prices = [4500, 4600, 4550, 4700]\n",
    "\n",
    "fruit_prices = {\n",
    "    'Mango': mango_prices,\n",
    "    'Orange': orange_prices,\n",
    "    'Apple': apple_prices\n",
    "    }\n",
    "\n",
    "# assume we have lists of different lengths\n",
    "mango_prices = [2500, 2700, 2600, 2800]\n",
    "orange_prices = [3000, 3200, 3100]\n",
    "apple_prices = [4500, 4600, 4550, 4700, 4800]\n",
    "\n",
    "for fruit, prices in zip_longest(['Mango', 'Orange', 'Apple'], [mango_prices, orange_prices, apple_prices]):\n",
    "    print(f\"{fruit}: {prices}\")\n",
    "\n",
    "avg = lambda lst: sum(lst) / len(lst)\n",
    "\n",
    "average_prices = {fruit: avg(prices) for fruit, prices in fruit_prices.items()}\n",
    "print(average_prices)\n",
    "\n",
    "above_average_fruits = (fruit for fruit, avg_price in average_prices.items() if avg_price > 3000)\n",
    "print(\"\\nFruits Above Average Price:\", ', '.join(above_average_fruits))\n",
    "\n",
    "\n",
    "\n"
   ]
  },
  {
   "cell_type": "code",
   "execution_count": 13,
   "id": "b2a3c4fa-c95d-4088-831e-c66a917f7daa",
   "metadata": {},
   "outputs": [
    {
     "name": "stdout",
     "output_type": "stream",
     "text": [
      "Kampala temperatures in Fahrenheit: [82.4, 86.0, 84.2, 80.6, 78.8, 84.2, 86.0, 87.8, 89.6, 86.0, 84.2, 82.4]\n",
      "Kampala temperatures: {'January': 28, 'February': 30, 'March': 29, 'April': 27, 'May': 26, 'June': 29, 'July': 30, 'August': 31, 'September': 32, 'October': 30, 'November': 29, 'December': 28}\n",
      "Hot months in Kampala: {'August': 31, 'September': 32}\n",
      "Hot months in Kampala: August - 31°C, September - 32°C\n"
     ]
    }
   ],
   "source": [
    "# QUESTION 3\n",
    "# Temperature data (°C)\n",
    "kampala = [28, 30, 29, 27, 26, 29, 30, 31, 32, 30, 29, 28]\n",
    "gulu = [25, 26, 27, 27, 28, 29, 30, 30, 29, 27, 26, 25]\n",
    "mbarara = [22, 23, 23, 24, 25, 25, 26, 27, 27, 26, 24, 23]\n",
    "\n",
    "months = ['January', 'February', 'March', 'April', 'May', 'June', 'July', 'August', 'September', 'October', 'November', 'December']\n",
    "\n",
    "kampala_fahrenheit = list(map(lambda x: (x * 9/5) + 32, kampala))\n",
    "print(\"Kampala temperatures in Fahrenheit:\", kampala_fahrenheit)\n",
    "\n",
    "kampala_temps = dict(zip(months, kampala))\n",
    "print(\"Kampala temperatures:\", kampala_temps)\n",
    "\n",
    "hot_months = dict(filter(lambda x: x[1] > 30, kampala_temps.items()))\n",
    "print(\"Hot months in Kampala:\", hot_months)\n",
    "\n",
    "hot_months_gen = ((month, temp) for month, temp in kampala_temps.items() if temp > 30)\n",
    "\n",
    "print(\"Hot months in Kampala:\", ', '.join(f'{month} - {temp}°C' for month, temp in hot_months_gen))\n",
    "\n"
   ]
  },
  {
   "cell_type": "code",
   "execution_count": 21,
   "id": "279fc628-9856-4f43-b36e-5031b5fde55d",
   "metadata": {},
   "outputs": [
    {
     "name": "stdout",
     "output_type": "stream",
     "text": [
      "Total paid by each student: [600000, 700000, 900000, 500000]\n",
      "Payment records: {'Alex': 600000, 'Grace': 700000, 'Sarah': 900000, 'Brian': 500000}\n",
      "Cleared: Alex, Grace, Sarah\n",
      "Alex: 600000 UGX\n",
      "Grace: 700000 UGX\n",
      "Sarah: 900000 UGX\n",
      "Brian: 500000 UGX\n"
     ]
    }
   ],
   "source": [
    "# QUESTION 4\n",
    "students = ['Alex', 'Grace', 'Sarah', 'Brian']\n",
    "installments = [\n",
    "    [150000, 200000, 250000],\n",
    "    [500000, 0, 200000],\n",
    "    [300000, 300000, 300000],\n",
    "    [400000, 100000, 0]\n",
    "]\n",
    "\n",
    "sum_payments = lambda payments: sum(payment for payment in payments if payment > 0)\n",
    "\n",
    "totals = list(map(sum_payments, installments))\n",
    "print(\"Total paid by each student:\", totals)\n",
    "\n",
    "payment_records = dict(zip(students, totals))\n",
    "print(\"Payment records:\", payment_records)\n",
    "\n",
    "cleared_students = list(filter(lambda x: payment_records[x] >= 600000, students))\n",
    "print(\"Cleared:\", ', '.join(cleared_students))\n",
    "\n",
    "def payment_summary(**kwargs):\n",
    "    for student, total in kwargs.items():\n",
    "        print(f\"{student}: {total} UGX\")\n",
    "\n",
    "# Summary\n",
    "payment_summary(Alex=600000, Grace=700000, Sarah=900000, Brian=500000)"
   ]
  },
  {
   "cell_type": "code",
   "execution_count": 19,
   "id": "295d3543-6324-461d-814e-643b7da65985",
   "metadata": {},
   "outputs": [
    {
     "name": "stdout",
     "output_type": "stream",
     "text": [
      "Yield in tons: [1.2, 1.5, 0.9, 1.3]\n",
      "Districts with yield > 1 ton: ['Bushenyi', 'Mityana', 'Mbale']\n",
      "Average yield: 1.225 tons\n",
      "Bushenyi produced 1.2 tons — Revenue: UGX 5,400\n",
      "Mityana produced 1.5 tons — Revenue: UGX 7,800\n",
      "Kasese produced 0.9 tons — Revenue: UGX 4,500\n",
      "Mbale produced 1.3 tons — Revenue: UGX 6,240\n"
     ]
    }
   ],
   "source": [
    "# QUESTION 5 :AGRICULTURAL YIELD ESTIMATOR\n",
    "districts = ['Bushenyi', 'Mityana', 'Kasese', 'Mbale']\n",
    "yield_data = [1200, 1500, 900, 1300]\n",
    "\n",
    "tons = list(map(lambda x: x / 1000, yield_data))\n",
    "print(\"Yield in tons:\", tons)\n",
    "\n",
    "high_yield_districts = (district for district, ton in zip(districts, tons) if ton > 1)\n",
    "print(\"Districts with yield > 1 ton:\", list(high_yield_districts))\n",
    "\n",
    "def average_yield(*args):\n",
    "    return sum(args) / len(args)\n",
    "\n",
    "average = average_yield(*tons)\n",
    "print(\"Average yield:\", average, \"tons\")\n",
    "\n",
    "def compute_revenue(**kwargs):\n",
    "    for district, ton in zip(districts, tons):\n",
    "        price = kwargs.get(district, 5000)  # default price is 5000 UGX per ton\n",
    "        revenue = ton * price\n",
    "        print(f\"{district} produced {ton} tons — Revenue: UGX {revenue:,.0f}\")\n",
    "# Summary\n",
    "compute_revenue(Bushenyi=4500, Mityana=5200, Kasese=5000, Mbale=4800)"
   ]
  },
  {
   "cell_type": "code",
   "execution_count": 22,
   "id": "ec828ab9-6a54-40af-9e09-61903bf4a405",
   "metadata": {},
   "outputs": [
    {
     "name": "stdout",
     "output_type": "stream",
     "text": [
      "Active Sites: ['https://ucu.ac.ug', 'https://harba.ug', 'https://www.bou.or.ug']\n",
      "Site Status: {'https://ucu.ac.ug': 200, 'https://harba.ug': 200, 'https://www.bou.or.ug': 200}\n",
      "Active Site: https://ucu.ac.ug\n",
      "Active Site: https://harba.ug\n",
      "Active Site: https://www.bou.or.ug\n"
     ]
    }
   ],
   "source": [
    "# QUESTION 6\n",
    "\n",
    "import requests\n",
    "\n",
    "def get_response_codes(*urls):\n",
    "    return {url: requests.get(url).status_code for url in urls}\n",
    "\n",
    "sites = ['https://ucu.ac.ug', 'https://harba.ug', 'https://www.bou.or.ug']\n",
    "response_codes = get_response_codes(*sites)\n",
    "\n",
    "active_sites = [url for url, code in response_codes.items() if code == 200]\n",
    "print(\"Active Sites:\", active_sites)\n",
    "\n",
    "site_status = {url: code for url, code in response_codes.items()}\n",
    "print(\"Site Status:\", site_status)\n",
    "\n",
    "active_site_gen = ('Active Site: ' + url for url, code in response_codes.items() if code == 200)\n",
    "for site in active_site_gen:\n",
    "    print(site)\n",
    "\n"
   ]
  },
  {
   "cell_type": "code",
   "execution_count": null,
   "id": "bdc61b0e-c63f-44f3-8929-49d894a30513",
   "metadata": {},
   "outputs": [],
   "source": []
  }
 ],
 "metadata": {
  "kernelspec": {
   "display_name": "Python [conda env:base] *",
   "language": "python",
   "name": "conda-base-py"
  },
  "language_info": {
   "codemirror_mode": {
    "name": "ipython",
    "version": 3
   },
   "file_extension": ".py",
   "mimetype": "text/x-python",
   "name": "python",
   "nbconvert_exporter": "python",
   "pygments_lexer": "ipython3",
   "version": "3.13.5"
  }
 },
 "nbformat": 4,
 "nbformat_minor": 5
}
