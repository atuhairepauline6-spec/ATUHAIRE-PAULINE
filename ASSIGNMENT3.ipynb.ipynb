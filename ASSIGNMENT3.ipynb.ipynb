{
  "cells": [
    {
      "cell_type": "markdown",
      "id": "byjdmxJFinSv",
      "metadata": {
        "id": "byjdmxJFinSv"
      },
      "source": [
        "#NAME :ATUHAIRE PAULINE\n",
        "#ACCESS NUMBER B35093\n",
        "#ASSIGNMENT 3"
      ]
    },
    {
      "cell_type": "markdown",
      "id": "066a6754",
      "metadata": {
        "id": "066a6754"
      },
      "source": [
        "#Vehicle Registration System\n",
        "\n",
        "This section models a vehicle registration system in Uganda using inheritance and polymorphism."
      ]
    },
    {
      "cell_type": "code",
      "execution_count": 1,
      "id": "c8b7f3d1",
      "metadata": {
        "colab": {
          "base_uri": "https://localhost:8080/"
        },
        "id": "c8b7f3d1",
        "outputId": "c86bc18d-c0e9-4ef4-c26e-384141132188"
      },
      "outputs": [
        {
          "data": {
            "text/plain": [
              "[{'plate_number': 'UAX123A', 'owner': 'John Doe', 'tax': 100090.0},\n",
              " {'plate_number': 'UBB555B', 'owner': 'Mary Trucks Ltd', 'tax': 150800.0},\n",
              " {'plate_number': 'UCC999C', 'owner': 'Peter Rider', 'tax': 70000}]"
            ]
          },
          "execution_count": 1,
          "metadata": {},
          "output_type": "execute_result"
        }
      ],
      "source": [
        "import json\n",
        "\n",
        "class Vehicle:\n",
        "    def __init__(self, plate_number, owner, engine_cc, base_tax):\n",
        "        self.plate_number = plate_number\n",
        "        self.owner = owner\n",
        "        self.engine_cc = engine_cc\n",
        "        self.base_tax = base_tax\n",
        "\n",
        "    def calculate_tax(self):\n",
        "        return self.base_tax\n",
        "\n",
        "class Car(Vehicle):\n",
        "    def __init__(self, plate_number, owner, engine_cc, base_tax, passenger_capacity):\n",
        "        super().__init__(plate_number, owner, engine_cc, base_tax)\n",
        "        self.passenger_capacity = passenger_capacity\n",
        "\n",
        "    def calculate_tax(self):\n",
        "        return self.base_tax + (self.engine_cc * 0.05)\n",
        "\n",
        "class Truck(Vehicle):\n",
        "    def __init__(self, plate_number, owner, engine_cc, base_tax, load_capacity):\n",
        "        super().__init__(plate_number, owner, engine_cc, base_tax)\n",
        "        self.load_capacity = load_capacity\n",
        "\n",
        "    def calculate_tax(self):\n",
        "        return self.base_tax + (self.load_capacity * 0.1)\n",
        "\n",
        "class Motorbike(Vehicle):\n",
        "    def __init__(self, plate_number, owner, engine_cc, base_tax, type_):\n",
        "        super().__init__(plate_number, owner, engine_cc, base_tax)\n",
        "        self.type = type_\n",
        "\n",
        "    def calculate_tax(self):\n",
        "        return self.base_tax + 20000\n",
        "\n",
        "# Demonstrate polymorphism\n",
        "vehicles = [\n",
        "    Car('UAX123A', 'John Doe', 1800, 100000, 5),\n",
        "    Truck('UBB555B', 'Mary Trucks Ltd', 3000, 150000, 8000),\n",
        "    Motorbike('UCC999C', 'Peter Rider', 125, 50000, 'boda')\n",
        "]\n",
        "\n",
        "data = []\n",
        "for v in vehicles:\n",
        "    data.append({\n",
        "        'plate_number': v.plate_number,\n",
        "        'owner': v.owner,\n",
        "        'tax': v.calculate_tax()\n",
        "    })\n",
        "\n",
        "with open('vehicle_registry.json', 'w') as f:\n",
        "    json.dump(data, f, indent=4)\n",
        "\n",
        "data"
      ]
    },
    {
      "cell_type": "markdown",
      "id": "3936f6ee",
      "metadata": {
        "id": "3936f6ee"
      },
      "source": [
        "#Question 2 :SACCO and Loan Eligibility\n",
        "\n",
        "Abstract base class with subclasses representing SACCO members and their loan eligibility."
      ]
    },
    {
      "cell_type": "code",
      "execution_count": 2,
      "id": "9d1f29fc",
      "metadata": {
        "colab": {
          "base_uri": "https://localhost:8080/"
        },
        "id": "9d1f29fc",
        "outputId": "d0919668-2de8-48f8-8679-f41325cd3db7"
      },
      "outputs": [
        {
          "name": "stdout",
          "output_type": "stream",
          "text": [
            "Alice eligible for UGX 800,000 or USD 232.00\n",
            "Bob eligible for UGX 900,000 or USD 261.00\n"
          ]
        }
      ],
      "source": [
        "from abc import ABC, abstractmethod\n",
        "import requests\n",
        "\n",
        "class Member(ABC):\n",
        "    def __init__(self, name, id_no, savings_balance):\n",
        "        self.name = name\n",
        "        self.id_no = id_no\n",
        "        self.savings_balance = savings_balance\n",
        "\n",
        "    @abstractmethod\n",
        "    def loan_eligibility(self):\n",
        "        pass\n",
        "\n",
        "    @staticmethod\n",
        "    def get_exchange_rate():\n",
        "        try:\n",
        "            response = requests.get('https://api.exchangerate-api.com/v4/latest/UGX', timeout=5)\n",
        "            data = response.json()\n",
        "            return data['rates']['USD']\n",
        "        except Exception as e:\n",
        "            print(\"Error fetching exchange rate:\", e)\n",
        "            return 0.00026  # fallback rate\n",
        "\n",
        "class TraderMember(Member):\n",
        "    def loan_eligibility(self):\n",
        "        return self.savings_balance * 4\n",
        "\n",
        "class FarmerMember(Member):\n",
        "    def loan_eligibility(self):\n",
        "        return self.savings_balance * 6\n",
        "\n",
        "usd_rate = Member.get_exchange_rate()\n",
        "\n",
        "members = [\n",
        "    TraderMember('Alice', 'T001', 200000),\n",
        "    FarmerMember('Bob', 'F002', 150000)\n",
        "]\n",
        "\n",
        "for m in members:\n",
        "    ugx = m.loan_eligibility()\n",
        "    usd = ugx * usd_rate\n",
        "    print(f\"{m.name} eligible for UGX {ugx:,} or USD {usd:.2f}\")"
      ]
    },
    {
      "cell_type": "code",
      "execution_count": null,
      "id": "8b136417",
      "metadata": {},
      "outputs": [],
      "source": []
    },
    {
      "cell_type": "markdown",
      "id": "95e67f76",
      "metadata": {
        "id": "95e67f76"
      },
      "source": [
        "#Question 3 : Smart Traffic Light Management\n",
        "\n",
        "This models a traffic light system using encapsulation and simulated sensor data."
      ]
    },
    {
      "cell_type": "code",
      "execution_count": 3,
      "id": "af8239ed",
      "metadata": {
        "colab": {
          "base_uri": "https://localhost:8080/"
        },
        "id": "af8239ed",
        "outputId": "a717b7ee-30e0-48c0-867a-fd6429b6b13e"
      },
      "outputs": [
        {
          "name": "stdout",
          "output_type": "stream",
          "text": [
            "[09:16] Jinja Road: Green for 45s, Red for 75s\n",
            "[09:16] Kampala Road: Green for 45s, Red for 75s\n",
            "[09:16] Jinja Road: Green for 54s, Red for 66s\n",
            "[09:16] Kampala Road: Green for 49s, Red for 71s\n",
            "[09:16] Jinja Road: Green for 37s, Red for 83s\n",
            "[09:16] Kampala Road: Green for 31s, Red for 89s\n"
          ]
        }
      ],
      "source": [
        "import random\n",
        "import time\n",
        "\n",
        "class TrafficLight:\n",
        "    def __init__(self, location):\n",
        "        self.location = location\n",
        "        self.__current_state = 'Red'\n",
        "\n",
        "    def turn_green(self):\n",
        "        self.__current_state = 'Green'\n",
        "\n",
        "    def turn_red(self):\n",
        "        self.__current_state = 'Red'\n",
        "\n",
        "    def status(self):\n",
        "        return self.__current_state\n",
        "\n",
        "class SmartTrafficLight(TrafficLight):\n",
        "    def get_car_density(self):\n",
        "        return random.randint(0, 100)\n",
        "\n",
        "    def simulate_cycle(self):\n",
        "        car_density = self.get_car_density()\n",
        "        green_duration = 30 + int(car_density / 2)\n",
        "        red_duration = 90 - int(car_density / 2)\n",
        "        self.turn_green()\n",
        "        print(f\"[{time.strftime('%H:%M')}] {self.location}: Green for {green_duration}s, Red for {red_duration}s\")\n",
        "\n",
        "lights = [SmartTrafficLight('Jinja Road'), SmartTrafficLight('Kampala Road')]\n",
        "\n",
        "for _ in range(3):\n",
        "    for light in lights:\n",
        "        light.simulate_cycle()\n",
        "    time.sleep(1)"
      ]
    },
    {
      "cell_type": "markdown",
      "id": "f6e6ec31",
      "metadata": {
        "id": "f6e6ec31"
      },
      "source": [
        "Question4:  Student Grading System\n",
        "\n",
        "Implements inheritance and JSON serialization for student grading."
      ]
    },
    {
      "cell_type": "code",
      "execution_count": 4,
      "id": "24e91dbe",
      "metadata": {
        "colab": {
          "base_uri": "https://localhost:8080/"
        },
        "id": "24e91dbe",
        "outputId": "ca47a142-191b-409f-8d9f-2d97d69696bb"
      },
      "outputs": [
        {
          "data": {
            "text/plain": [
              "[{'id': 'PG001', 'name': 'Jane Doe', 'grade': 'A', 'thesis': 'Pass'}]"
            ]
          },
          "execution_count": 4,
          "metadata": {},
          "output_type": "execute_result"
        }
      ],
      "source": [
        "import json\n",
        "\n",
        "class Student:\n",
        "    def __init__(self, student_id, name, marks):\n",
        "        self.student_id = student_id\n",
        "        self.name = name\n",
        "        self.marks = marks\n",
        "\n",
        "    def total(self):\n",
        "        return sum(self.marks.values())\n",
        "\n",
        "    def average(self):\n",
        "        return self.total() / len(self.marks)\n",
        "\n",
        "    def grade(self):\n",
        "        avg = self.average()\n",
        "        if avg >= 80: return 'A'\n",
        "        elif avg >= 70: return 'B'\n",
        "        elif avg >= 60: return 'C'\n",
        "        elif avg >= 50: return 'D'\n",
        "        else: return 'F'\n",
        "\n",
        "class PostgraduateStudent(Student):\n",
        "    def __init__(self, student_id, name, marks, research_topic):\n",
        "        super().__init__(student_id, name, marks)\n",
        "        self.research_topic = research_topic\n",
        "\n",
        "    def evaluate_thesis(self):\n",
        "        return 'Pass' if self.average() >= 70 else 'Revise'\n",
        "\n",
        "students = [\n",
        "    PostgraduateStudent('PG001', 'Jane Doe', {'AI':85, 'ML':78, 'Stats':88}, 'AI in Healthcare')\n",
        "]\n",
        "\n",
        "data = [{\n",
        "    'id': s.student_id,\n",
        "    'name': s.name,\n",
        "    'grade': s.grade(),\n",
        "    'thesis': s.evaluate_thesis()\n",
        "} for s in students]\n",
        "\n",
        "with open('students.json', 'w') as f:\n",
        "    json.dump(data, f, indent=4)\n",
        "\n",
        "data"
      ]
    },
    {
      "cell_type": "markdown",
      "id": "88d17804",
      "metadata": {
        "id": "88d17804"
      },
      "source": [
        "#Question 5 Uganda Music Analytics\n",
        "\n",
        "Simulates music analytics for Ugandan artists using pandas and seaborn."
      ]
    },
    {
      "cell_type": "code",
      "execution_count": 5,
      "id": "dd85abfb",
      "metadata": {
        "colab": {
          "base_uri": "https://localhost:8080/",
          "height": 524
        },
        "id": "dd85abfb",
        "outputId": "98c922de-6ccc-4d65-aceb-f5189030e714"
      },
      "outputs": [
        {
          "name": "stdout",
          "output_type": "stream",
          "text": [
            "    artist         track   plays  popularity country\n",
            "0    Azawi  Slow Dancing  120000          85  Uganda\n",
            "1  Sheebah       Nkutuse   95000          78  Uganda\n"
          ]
        },
        {
          "data": {
            "image/png": "[encoded data removed]",
            "text/plain": [
              "<Figure size 640x480 with 1 Axes>"
            ]
          },
          "metadata": {},
          "output_type": "display_data"
        }
      ],
      "source": [
        "import pandas as pd\n",
        "import seaborn as sns\n",
        "import matplotlib.pyplot as plt\n",
        "\n",
        "mock_data = [\n",
        "    {'artist': 'Azawi', 'track': 'Slow Dancing', 'plays': 120000, 'popularity': 85, 'country': 'Uganda'},\n",
        "    {'artist': 'Sheebah', 'track': 'Nkutuse', 'plays': 95000, 'popularity': 78, 'country': 'Uganda'},\n",
        "    {'artist': 'Burna Boy', 'track': 'Kilometre', 'plays': 200000, 'popularity': 90, 'country': 'Nigeria'}\n",
        "]\n",
        "\n",
        "df = pd.DataFrame(mock_data)\n",
        "\n",
        "class UgandaMusicAnalytics:\n",
        "    def __init__(self, dataframe):\n",
        "        self.df = dataframe\n",
        "\n",
        "    def top_tracks(self):\n",
        "        return self.df.sort_values(by='popularity', ascending=False)\n",
        "\n",
        "    def plot_popularity(self):\n",
        "        sns.barplot(data=self.df, x='artist', y='popularity')\n",
        "        plt.title('Track Popularity')\n",
        "        plt.show()\n",
        "\n",
        "class LocalArtistAnalytics(UgandaMusicAnalytics):\n",
        "    def local_tracks(self):\n",
        "        return self.df[self.df['country'] == 'Uganda']\n",
        "\n",
        "uma = LocalArtistAnalytics(df)\n",
        "print(uma.local_tracks())\n",
        "uma.plot_popularity()"
      ]
    },
    {
      "cell_type": "markdown",
      "id": "fa41e22d",
      "metadata": {
        "id": "fa41e22d"
      },
      "source": [
        "#Question6 Exchange Rate Data Pipeline\n",
        "\n",
        "Analyzes exchange rate trends using pandas, numpy, and matplotlib."
      ]
    },
    {
      "cell_type": "code",
      "execution_count": 6,
      "id": "5ba71a65",
      "metadata": {
        "colab": {
          "base_uri": "https://localhost:8080/",
          "height": 666
        },
        "id": "5ba71a65",
        "outputId": "d3899955-4d8e-4d71-af5a-92758180e90f"
      },
      "outputs": [
        {
          "name": "stderr",
          "output_type": "stream",
          "text": [
            "/tmp/ipython-input-1345692830.py:6: FutureWarning: 'M' is deprecated and will be removed in a future version, please use 'ME' instead.\n",
            "  'date': pd.date_range('2025-01-01', periods=6, freq='M'),\n"
          ]
        },
        {
          "name": "stdout",
          "output_type": "stream",
          "text": [
            "          USD     GBP     EUR\n",
            "month                        \n",
            "1      3800.0  4800.0  4200.0\n",
            "2      3820.0  4850.0  4230.0\n",
            "3      3850.0  4870.0  4250.0\n",
            "4      3840.0  4900.0  4280.0\n",
            "5      3830.0  4920.0  4300.0\n",
            "6      3860.0  4950.0  4320.0\n"
          ]
        },
        {
          "data": {
            "image/png": "[encoded data removed]",
            "text/plain": [
              "<Figure size 640x480 with 1 Axes>"
            ]
          },
          "metadata": {},
          "output_type": "display_data"
        }
      ],
      "source": [
        "import pandas as pd\n",
        "import numpy as np\n",
        "import matplotlib.pyplot as plt\n",
        "\n",
        "data = {\n",
        "    'date': pd.date_range('2025-01-01', periods=6, freq='M'),\n",
        "    'USD': [3800, 3820, 3850, 3840, 3830, 3860],\n",
        "    'GBP': [4800, 4850, 4870, 4900, 4920, 4950],\n",
        "    'EUR': [4200, 4230, 4250, 4280, 4300, 4320]\n",
        "}\n",
        "\n",
        "df = pd.DataFrame(data)\n",
        "df['month'] = df['date'].dt.month\n",
        "\n",
        "avg_rates = df.groupby('month')[['USD', 'GBP', 'EUR']].mean()\n",
        "print(avg_rates)\n",
        "\n",
        "avg_rates.plot(title='Monthly Average Exchange Rates')\n",
        "plt.ylabel('UGX per Unit')\n",
        "plt.show()\n",
        "\n",
        "df.to_csv('exchange_rates.csv', index=False)\n",
        "df.to_json('exchange_rates.json', orient='records', indent=4)"
      ]
    }
  ],
  "metadata": {
    "colab": {
      "provenance": []
    },
    "kernelspec": {
      "display_name": "Python 3",
      "name": "python3"
    },
    "language_info": {
      "name": "python"
    }
  },
  "nbformat": 4,
  "nbformat_minor": 5
}
